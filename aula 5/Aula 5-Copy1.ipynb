{
 "cells": [
  {
   "cell_type": "code",
   "execution_count": 4,
   "id": "94740801",
   "metadata": {},
   "outputs": [
    {
     "name": "stdout",
     "output_type": "stream",
     "text": [
      "digite o valor do salário: 1000000\n",
      "O novo salário é: R$ 1153000.00\n"
     ]
    }
   ],
   "source": [
    "sal = float(input('digite o valor do salário: '))\n",
    "n_sal = sal * 1.153\n",
    "print(f'O novo salário é: R$ {n_sal:8.2f}')"
   ]
  },
  {
   "cell_type": "code",
   "execution_count": null,
   "id": "bb02451e",
   "metadata": {},
   "outputs": [],
   "source": []
  }
 ],
 "metadata": {
  "kernelspec": {
   "display_name": "Python 3 (ipykernel)",
   "language": "python",
   "name": "python3"
  },
  "language_info": {
   "codemirror_mode": {
    "name": "ipython",
    "version": 3
   },
   "file_extension": ".py",
   "mimetype": "text/x-python",
   "name": "python",
   "nbconvert_exporter": "python",
   "pygments_lexer": "ipython3",
   "version": "3.11.5"
  }
 },
 "nbformat": 4,
 "nbformat_minor": 5
}
