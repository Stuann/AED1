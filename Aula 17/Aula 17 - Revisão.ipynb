{
 "cells": [
  {
   "cell_type": "code",
   "execution_count": null,
   "id": "5b1edc9e-bc13-467b-a36c-32b01aad9dcc",
   "metadata": {},
   "outputs": [],
   "source": [
    "# tirando a media convencional"
   ]
  },
  {
   "cell_type": "code",
   "execution_count": 1,
   "id": "59cd28ea-e2b5-4a70-a63c-ec07d523870f",
   "metadata": {},
   "outputs": [
    {
     "name": "stdout",
     "output_type": "stream",
     "text": [
      "A média mensal de consumo de energia em KWH é : 51.37\n"
     ]
    }
   ],
   "source": [
    "consumo_diario = [50, 45, 55,60,48,52,47,49,53,51,50,46,54,61,49,53,48,50,52,47,56,50,55,60,48,52,47,49,53,51]\n",
    "soma = 0\n",
    "for consumo in consumo_diario:\n",
    "    soma += consumo\n",
    "media = soma / len(consumo_diario)\n",
    "print(f'A média mensal de consumo de energia em KWH é : {media:.2f}')\n"
   ]
  },
  {
   "cell_type": "code",
   "execution_count": 2,
   "id": "e59ae58e-ddaf-4725-ac12-1c8853cefcd6",
   "metadata": {},
   "outputs": [],
   "source": [
    "# tirando a media usando numpy"
   ]
  },
  {
   "cell_type": "code",
   "execution_count": 3,
   "id": "43be67f7-6550-4c64-b648-1d8f8d451ef9",
   "metadata": {},
   "outputs": [
    {
     "name": "stdout",
     "output_type": "stream",
     "text": [
      "51.36666666666667\n"
     ]
    }
   ],
   "source": [
    "\n",
    "import numpy as np\n",
    "consumo_diario = [50, 45, 55,60,48,52,47,49,53,51,50,46,54,61,49,53,48,50,52,47,56,50,55,60,48,52,47,49,53,51]\n",
    "media = np.mean(consumo_diario)\n",
    "print(media)"
   ]
  },
  {
   "cell_type": "code",
   "execution_count": 4,
   "id": "10ed16d1-5e99-4cbd-91fe-43204003cb78",
   "metadata": {},
   "outputs": [
    {
     "name": "stdout",
     "output_type": "stream",
     "text": [
      "Funcionário 1: 6.6\n",
      "Funcionário 2: 6.0\n",
      "Funcionário 3: 8.2\n",
      "Funcionário 4: 5.2\n",
      "Funcionário 5: 7.4\n"
     ]
    }
   ],
   "source": [
    "import numpy as np\n",
    "\n",
    "produtividade = [[5,7,6,8,7], # funcionario 1\n",
    "                [6,5,6,7,6], # funcionario 2\n",
    "                [8,9,7,8,9], # funcionario 3\n",
    "                [4,6,5,5,6], # funcionario 4\n",
    "                [7,8,7,8,7], # funcionario 5\n",
    "                ]\n",
    "\n",
    "# Calculate average productivity for each person\n",
    "media_por_pessoa = [np.mean(pessoa) for pessoa in produtividade]\n",
    "\n",
    "# Print average productivity for each person\n",
    "for i, media in enumerate(media_por_pessoa, start=1):\n",
    "    print(f\"Funcionário {i}: {media}\")"
   ]
  },
  {
   "cell_type": "code",
   "execution_count": 5,
   "id": "7a79b886-305c-485d-8d99-e4cfedcd6b23",
   "metadata": {},
   "outputs": [],
   "source": [
    "produtividade = [[5,7,6,8,7], # funcionario 1\n",
    "                [6,5,6,7,6], # funcionario 2\n",
    "                [8,9,7,8,9], # funcionario 3\n",
    "                [4,6,5,5,6], # funcionario 4\n",
    "                [7,8,7,8,7], # funcionario 5\n",
    "                ]"
   ]
  },
  {
   "cell_type": "code",
   "execution_count": 22,
   "id": "f7549848-8c9c-4ebc-8c32-dc6bbbb450b6",
   "metadata": {},
   "outputs": [],
   "source": [
    "func = [0,0,0,0,0]"
   ]
  },
  {
   "cell_type": "code",
   "execution_count": 23,
   "id": "d1436957-5392-4a4a-86df-86963c01dd05",
   "metadata": {},
   "outputs": [],
   "source": [
    "f = 0\n",
    "for tarefas in produtividade:\n",
    "    soma = 0\n",
    "    for tarefa in tarefas:\n",
    "        soma += tarefa\n",
    "    func[f] = soma\n",
    "    f += 1"
   ]
  },
  {
   "cell_type": "code",
   "execution_count": 24,
   "id": "995525ba-8580-41ff-89fe-0e5812e26765",
   "metadata": {},
   "outputs": [
    {
     "name": "stdout",
     "output_type": "stream",
     "text": [
      "[33, 30, 41, 26, 37]\n"
     ]
    }
   ],
   "source": [
    "print(func)"
   ]
  },
  {
   "cell_type": "code",
   "execution_count": 25,
   "id": "d9e646ce-b7b4-486c-9337-dbb95c09bcb4",
   "metadata": {},
   "outputs": [
    {
     "name": "stdout",
     "output_type": "stream",
     "text": [
      "O 3o. é o mais produtivo com 41 tarefas realizadas\n"
     ]
    }
   ],
   "source": [
    "maior = max(func)\n",
    "funcionario = func.index(maior) + 1\n",
    "print(f'O {funcionario}o. é o mais produtivo com {maior} tarefas realizadas')"
   ]
  },
  {
   "cell_type": "code",
   "execution_count": 60,
   "id": "9ed2969b-349c-4c24-9e4d-11512d6ce0aa",
   "metadata": {},
   "outputs": [
    {
     "name": "stdin",
     "output_type": "stream",
     "text": [
      "insira o nome do participante para saber se ele esteve no evento:  ana\n"
     ]
    },
    {
     "name": "stdout",
     "output_type": "stream",
     "text": [
      "O participante esteve no evento\n"
     ]
    },
    {
     "data": {
      "text/plain": [
       "True"
      ]
     },
     "execution_count": 60,
     "metadata": {},
     "output_type": "execute_result"
    }
   ],
   "source": [
    "participantes_evento = ['Ana', 'Bruno', 'Carlos','Diana','Eduardo']\n",
    "def verificar_participante(participantes, nome):\n",
    "    if nome in participantes:\n",
    "        print('O participante esteve no evento')\n",
    "        return True\n",
    "    else:\n",
    "        print('O participante nao esteve no evento')\n",
    "        return False\n",
    "input('insira o nome do participante para saber se ele esteve no evento: ')\n",
    "verificar_participante(participantes_evento, nome)"
   ]
  },
  {
   "cell_type": "code",
   "execution_count": 80,
   "id": "e2779c1c-ee9f-4514-9471-700a1b3e0e47",
   "metadata": {},
   "outputs": [
    {
     "name": "stdin",
     "output_type": "stream",
     "text": [
      "digite o nome do participante:  Ana\n",
      "insira o nome do participante para saber se ele esteve no evento:  Ana\n"
     ]
    },
    {
     "data": {
      "text/plain": [
       "False"
      ]
     },
     "execution_count": 80,
     "metadata": {},
     "output_type": "execute_result"
    }
   ],
   "source": [
    "participantes_evento = ['Ana', 'Bruno', 'Carlos','Diana','Eduardo']\n",
    "nome_participante = input('digite o nome do participante: ')\n",
    "def verificar_participante(participantes, nome):\n",
    "    if nome in participantes:\n",
    "        return True\n",
    "    else:\n",
    "        return False\n",
    "        \n",
    "input('insira o nome do participante para saber se ele esteve no evento: ')\n",
    "verificar_participante(participantes_evento, nome)"
   ]
  },
  {
   "cell_type": "code",
   "execution_count": null,
   "id": "74a0f773-3c9a-452d-8b57-470456cb930c",
   "metadata": {},
   "outputs": [],
   "source": []
  }
 ],
 "metadata": {
  "kernelspec": {
   "display_name": "Python 3 (ipykernel)",
   "language": "python",
   "name": "python3"
  },
  "language_info": {
   "codemirror_mode": {
    "name": "ipython",
    "version": 3
   },
   "file_extension": ".py",
   "mimetype": "text/x-python",
   "name": "python",
   "nbconvert_exporter": "python",
   "pygments_lexer": "ipython3",
   "version": "3.11.7"
  }
 },
 "nbformat": 4,
 "nbformat_minor": 5
}
